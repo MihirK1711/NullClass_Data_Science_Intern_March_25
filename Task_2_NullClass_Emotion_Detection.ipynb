{
 "cells": [
  {
   "cell_type": "code",
   "execution_count": 5,
   "id": "5abe43a2-b2d7-4ada-88bb-3bb30c67e4d8",
   "metadata": {},
   "outputs": [],
   "source": [
    "import os\n",
    "import cv2\n",
    "import numpy as np\n",
    "import matplotlib.pyplot as plt\n",
    "import seaborn as sns\n",
    "from sklearn.metrics import confusion_matrix, classification_report\n",
    "from sklearn.model_selection import train_test_split\n",
    "from tensorflow.keras.models import Sequential\n",
    "from tensorflow.keras.layers import Conv2D, MaxPooling2D, Flatten, Dense\n",
    "from sklearn.metrics import confusion_matrix, classification_report"
   ]
  },
  {
   "cell_type": "code",
   "execution_count": 6,
   "id": "57d05e02-ceaa-4f95-964f-cdd1177721ac",
   "metadata": {},
   "outputs": [],
   "source": [
    "# Define paths\n",
    "dataset_path = 'Drowsiness_Detection_Data'\n",
    "categories = ['Active','Fatigue']"
   ]
  },
  {
   "cell_type": "code",
   "execution_count": 7,
   "id": "b93fc1fb-e720-4f67-a23e-32b932fe06ad",
   "metadata": {},
   "outputs": [],
   "source": [
    "# Initialize lists to hold images and labels\n",
    "images = []\n",
    "labels = []"
   ]
  },
  {
   "cell_type": "code",
   "execution_count": 8,
   "id": "d3a702f1-c1f9-48af-8d40-db14c7c5fc06",
   "metadata": {},
   "outputs": [
    {
     "name": "stdout",
     "output_type": "stream",
     "text": [
      "Warning: .ipynb_checkpoints is not a valid image file. Skipping this file.\n"
     ]
    }
   ],
   "source": [
    "# Load images\n",
    "for category in categories:\n",
    "    category_path = os.path.join(dataset_path, category)\n",
    "    for img_name in os.listdir(category_path):\n",
    "        if not img_name.lower().endswith(('.png', '.jpg', '.jpeg')):  # Check for valid image extensions\n",
    "            print(f\"Warning: {img_name} is not a valid image file. Skipping this file.\")\n",
    "            continue\n",
    "        \n",
    "        img_path = os.path.join(category_path, img_name)\n",
    "        # Load the image\n",
    "        img = cv2.imread(img_path)\n",
    "        \n",
    "        # Check if the image was loaded successfully\n",
    "        if img is None:\n",
    "            print(f\"Warning: Unable to load image at {img_path}. Skipping this file.\")\n",
    "            continue  # Skip to the next file if the image is not loaded\n",
    "\n",
    "        # Resize the image to a fixed size (e.g., 64x64)\n",
    "        img = cv2.resize(img, (64, 64))\n",
    "        # Normalize the image\n",
    "        img = img / 255.0  # Scale pixel values to [0, 1]\n",
    "        images.append(img)\n",
    "        labels.append(categories.index(category))  # Assign label "
   ]
  },
  {
   "cell_type": "code",
   "execution_count": 9,
   "id": "afa76e17-fbf2-47ca-a286-7d7b1ac466f9",
   "metadata": {},
   "outputs": [],
   "source": [
    "# Convert lists to numpy arrays\n",
    "X = np.array(images)\n",
    "y = np.array(labels)"
   ]
  },
  {
   "cell_type": "code",
   "execution_count": 10,
   "id": "40f9c41e-cf03-4da2-91a9-80e2ff1cedb9",
   "metadata": {},
   "outputs": [],
   "source": [
    "# Split the dataset into training and validation sets\n",
    "X_train, X_val, y_train, y_val = train_test_split(X, y, test_size=0.2, random_state=42)"
   ]
  },
  {
   "cell_type": "code",
   "execution_count": 11,
   "id": "f55a3e1f-1caf-40e1-968d-959bf9935ca3",
   "metadata": {},
   "outputs": [
    {
     "name": "stdout",
     "output_type": "stream",
     "text": [
      "Training data shape: (5749, 64, 64, 3), Validation data shape: (1438, 64, 64, 3)\n"
     ]
    }
   ],
   "source": [
    "print(f'Training data shape: {X_train.shape}, Validation data shape: {X_val.shape}')"
   ]
  },
  {
   "cell_type": "code",
   "execution_count": 12,
   "id": "9d9cd5c2-6882-4050-9dbe-3648c478344c",
   "metadata": {},
   "outputs": [
    {
     "name": "stderr",
     "output_type": "stream",
     "text": [
      "C:\\Users\\Mihir\\anaconda3\\Lib\\site-packages\\keras\\src\\layers\\convolutional\\base_conv.py:107: UserWarning: Do not pass an `input_shape`/`input_dim` argument to a layer. When using Sequential models, prefer using an `Input(shape)` object as the first layer in the model instead.\n",
      "  super().__init__(activity_regularizer=activity_regularizer, **kwargs)\n"
     ]
    },
    {
     "name": "stdout",
     "output_type": "stream",
     "text": [
      "Epoch 1/10\n",
      "\u001b[1m180/180\u001b[0m \u001b[32m━━━━━━━━━━━━━━━━━━━━\u001b[0m\u001b[37m\u001b[0m \u001b[1m13s\u001b[0m 39ms/step - accuracy: 0.7290 - loss: 0.5145 - val_accuracy: 0.8442 - val_loss: 0.3549\n",
      "Epoch 2/10\n",
      "\u001b[1m180/180\u001b[0m \u001b[32m━━━━━━━━━━━━━━━━━━━━\u001b[0m\u001b[37m\u001b[0m \u001b[1m10s\u001b[0m 37ms/step - accuracy: 0.8441 - loss: 0.3572 - val_accuracy: 0.8693 - val_loss: 0.3012\n",
      "Epoch 3/10\n",
      "\u001b[1m180/180\u001b[0m \u001b[32m━━━━━━━━━━━━━━━━━━━━\u001b[0m\u001b[37m\u001b[0m \u001b[1m6s\u001b[0m 35ms/step - accuracy: 0.8547 - loss: 0.3359 - val_accuracy: 0.8783 - val_loss: 0.2857\n",
      "Epoch 4/10\n",
      "\u001b[1m180/180\u001b[0m \u001b[32m━━━━━━━━━━━━━━━━━━━━\u001b[0m\u001b[37m\u001b[0m \u001b[1m6s\u001b[0m 32ms/step - accuracy: 0.8698 - loss: 0.3071 - val_accuracy: 0.8769 - val_loss: 0.2996\n",
      "Epoch 5/10\n",
      "\u001b[1m180/180\u001b[0m \u001b[32m━━━━━━━━━━━━━━━━━━━━\u001b[0m\u001b[37m\u001b[0m \u001b[1m6s\u001b[0m 31ms/step - accuracy: 0.8805 - loss: 0.2877 - val_accuracy: 0.8727 - val_loss: 0.2821\n",
      "Epoch 6/10\n",
      "\u001b[1m180/180\u001b[0m \u001b[32m━━━━━━━━━━━━━━━━━━━━\u001b[0m\u001b[37m\u001b[0m \u001b[1m10s\u001b[0m 31ms/step - accuracy: 0.8876 - loss: 0.2686 - val_accuracy: 0.8936 - val_loss: 0.2717\n",
      "Epoch 7/10\n",
      "\u001b[1m180/180\u001b[0m \u001b[32m━━━━━━━━━━━━━━━━━━━━\u001b[0m\u001b[37m\u001b[0m \u001b[1m6s\u001b[0m 31ms/step - accuracy: 0.8863 - loss: 0.2724 - val_accuracy: 0.8373 - val_loss: 0.3417\n",
      "Epoch 8/10\n",
      "\u001b[1m180/180\u001b[0m \u001b[32m━━━━━━━━━━━━━━━━━━━━\u001b[0m\u001b[37m\u001b[0m \u001b[1m6s\u001b[0m 31ms/step - accuracy: 0.8848 - loss: 0.2747 - val_accuracy: 0.8943 - val_loss: 0.2687\n",
      "Epoch 9/10\n",
      "\u001b[1m180/180\u001b[0m \u001b[32m━━━━━━━━━━━━━━━━━━━━\u001b[0m\u001b[37m\u001b[0m \u001b[1m6s\u001b[0m 33ms/step - accuracy: 0.8986 - loss: 0.2480 - val_accuracy: 0.8957 - val_loss: 0.2499\n",
      "Epoch 10/10\n",
      "\u001b[1m180/180\u001b[0m \u001b[32m━━━━━━━━━━━━━━━━━━━━\u001b[0m\u001b[37m\u001b[0m \u001b[1m10s\u001b[0m 31ms/step - accuracy: 0.8914 - loss: 0.2602 - val_accuracy: 0.8887 - val_loss: 0.2559\n"
     ]
    },
    {
     "name": "stderr",
     "output_type": "stream",
     "text": [
      "WARNING:absl:You are saving your model as an HDF5 file via `model.save()` or `keras.saving.save_model(model)`. This file format is considered legacy. We recommend using instead the native Keras format, e.g. `model.save('my_model.keras')` or `keras.saving.save_model(model, 'my_model.keras')`. \n"
     ]
    }
   ],
   "source": [
    "# Define image dimensions\n",
    "image_height = 64  # Height of the image\n",
    "image_width = 64   # Width of the image\n",
    "channels = 3       # Number of color channels (3 for RGB)\n",
    "model = Sequential()\n",
    "model.add(Conv2D(32, (3, 3), activation='relu', input_shape=(image_height, image_width, channels)))\n",
    "model.add(MaxPooling2D(pool_size=(2, 2)))\n",
    "# Add more layers as needed\n",
    "model.add(Flatten())\n",
    "model.add(Dense(1, activation='sigmoid'))  # Binary classification\n",
    "\n",
    "model.compile(optimizer='adam', loss='binary_crossentropy', metrics=['accuracy'])\n",
    "\n",
    "# Train the model\n",
    "model.fit(X_train, y_train, epochs=10, validation_data=(X_val, y_val))\n",
    "\n",
    "# Save the model\n",
    "model.save('drowsiness_detection_model.h5')"
   ]
  },
  {
   "cell_type": "code",
   "execution_count": 13,
   "id": "73b6bfe0-1ddd-424d-a3f4-7805c3aed250",
   "metadata": {},
   "outputs": [
    {
     "name": "stdout",
     "output_type": "stream",
     "text": [
      "\u001b[1m45/45\u001b[0m \u001b[32m━━━━━━━━━━━━━━━━━━━━\u001b[0m\u001b[37m\u001b[0m \u001b[1m1s\u001b[0m 17ms/step\n"
     ]
    }
   ],
   "source": [
    "# Assuming you have your model trained and X_val, y_val defined\n",
    "y_pred = (model.predict(X_val) > 0.5).astype(\"int32\")  # Convert probabilities to binary predictions"
   ]
  },
  {
   "cell_type": "code",
   "execution_count": 14,
   "id": "5c297b29-bfb1-48cb-b2e3-b651345cd437",
   "metadata": {},
   "outputs": [],
   "source": [
    "# Calculate confusion matrix\n",
    "cm = confusion_matrix(y_val, y_pred)"
   ]
  },
  {
   "cell_type": "code",
   "execution_count": 15,
   "id": "8cf069ea-09e2-4d6a-89a5-7352b42bfc3c",
   "metadata": {},
   "outputs": [
    {
     "name": "stdout",
     "output_type": "stream",
     "text": [
      "              precision    recall  f1-score   support\n",
      "\n",
      "      Active       0.86      0.95      0.91       809\n",
      "     Fatigue       0.93      0.81      0.86       629\n",
      "\n",
      "    accuracy                           0.89      1438\n",
      "   macro avg       0.90      0.88      0.88      1438\n",
      "weighted avg       0.89      0.89      0.89      1438\n",
      "\n"
     ]
    }
   ],
   "source": [
    "# Print classification report\n",
    "print(classification_report(y_val, y_pred, target_names=['Active', 'Fatigue']))"
   ]
  },
  {
   "cell_type": "code",
   "execution_count": 16,
   "id": "c35d0ba4-7a8d-41af-814d-0937990d8918",
   "metadata": {},
   "outputs": [
    {
     "data": {
      "image/png": "[encoded data removed]",
      "text/plain": [
       "<Figure size 800x600 with 2 Axes>"
      ]
     },
     "metadata": {},
     "output_type": "display_data"
    }
   ],
   "source": [
    "# Plot confusion matrix\n",
    "plt.figure(figsize=(8, 6))\n",
    "sns.heatmap(cm, annot=True, fmt='d', cmap='Blues', xticklabels=['Awake', 'Asleep'], yticklabels=['Awake', 'Asleep'])\n",
    "plt.ylabel('Actual')\n",
    "plt.xlabel('Predicted')\n",
    "plt.title('Confusion Matrix')\n",
    "plt.show()"
   ]
  },
  {
   "cell_type": "code",
   "execution_count": 17,
   "id": "2e069cdd-91ea-4d82-b546-fabd7cbd01d4",
   "metadata": {},
   "outputs": [
    {
     "name": "stderr",
     "output_type": "stream",
     "text": [
      "WARNING:absl:You are saving your model as an HDF5 file via `model.save()` or `keras.saving.save_model(model)`. This file format is considered legacy. We recommend using instead the native Keras format, e.g. `model.save('my_model.keras')` or `keras.saving.save_model(model, 'my_model.keras')`. \n"
     ]
    }
   ],
   "source": [
    "# Save the entire model (architecture + weights)\n",
    "model.save('drowsiness_detection_model.h5')"
   ]
  },
  {
   "cell_type": "code",
   "execution_count": 18,
   "id": "fac2be49-aa34-4401-80ff-dd401455a75f",
   "metadata": {},
   "outputs": [],
   "source": [
    "from PyQt5 import QtWidgets, QtGui,QtCore\n",
    "from PyQt5.QtWidgets import QFileDialog, QMessageBox, QLabel, QPushButton, QVBoxLayout, QHBoxLayout, QGridLayout, QStatusBar, QWidget\n",
    "import sys\n",
    "from tensorflow.keras.models import load_model"
   ]
  },
  {
   "cell_type": "code",
   "execution_count": 19,
   "id": "cdca3de3-8f72-4002-8ff8-1ae989ccf212",
   "metadata": {},
   "outputs": [],
   "source": [
    "class DrowsinessDetectionApp(QtWidgets.QWidget):\n",
    "    def __init__(self):\n",
    "        super().__init__()\n",
    "        self.initUI()\n",
    "        self.model = load_model('drowsiness_detection_model.h5')  # Load your trained model\n",
    "\n",
    "    def initUI(self):\n",
    "        self.setWindowTitle('Drowsiness Detection')\n",
    "        self.setGeometry(100, 100, 600, 400)\n",
    "\n",
    "        # Layout\n",
    "        layout = QVBoxLayout()\n",
    "\n",
    "        # Title Label\n",
    "        titleLabel = QLabel('Drowsiness Detection Application', self)\n",
    "        titleLabel.setAlignment(QtCore.Qt.AlignCenter)\n",
    "        titleLabel.setStyleSheet(\"font-size: 20px; font-weight: bold;\")\n",
    "        layout.addWidget(titleLabel)\n",
    "\n",
    "        # Instructions Label\n",
    "        instructionsLabel = QLabel('Load an image or video to detect drowsiness.', self)\n",
    "        instructionsLabel.setAlignment(QtCore.Qt.AlignCenter)\n",
    "        layout.addWidget(instructionsLabel)\n",
    "\n",
    "        # Image display label\n",
    "        self.imageLabel = QLabel(self)\n",
    "        self.imageLabel.setFixedSize(300, 300)\n",
    "        layout.addWidget(self.imageLabel)\n",
    "\n",
    "        # Buttons\n",
    "        buttonLayout = QHBoxLayout()\n",
    "        self.loadImageButton = QPushButton('Load Image', self)\n",
    "        self.loadImageButton.clicked.connect(self.load_image)\n",
    "        buttonLayout.addWidget(self.loadImageButton)\n",
    "\n",
    "        self.loadVideoButton = QPushButton('Load Video', self)\n",
    "        self.loadVideoButton.clicked.connect(self.load_video)\n",
    "        buttonLayout.addWidget(self.loadVideoButton)\n",
    "\n",
    "        self.clearButton = QPushButton('Clear', self)\n",
    "        self.clearButton.clicked.connect(self.clear_display)\n",
    "        buttonLayout.addWidget(self.clearButton)\n",
    "\n",
    "        self.saveButton = QPushButton('Save Result', self)\n",
    "        self.saveButton.clicked.connect(self.save_result)\n",
    "        buttonLayout.addWidget(self.saveButton)\n",
    "\n",
    "        layout.addLayout(buttonLayout)\n",
    "\n",
    "        # Status Bar\n",
    "        self.statusBar = QStatusBar(self)\n",
    "        layout.addWidget(self.statusBar)\n",
    "\n",
    "        self.setLayout(layout)\n",
    "\n",
    "    def load_image(self):\n",
    "        options = QFileDialog.Options()\n",
    "        fileName, _ = QFileDialog.getOpenFileName(self, \"Load Image\", \"\", \"Images (*.png *.jpg *.jpeg);;All Files (*)\", options=options)\n",
    "        if fileName:\n",
    "            self.detect_drowsiness(fileName)\n",
    "\n",
    "    def load_video(self):\n",
    "        options = QFileDialog.Options()\n",
    "        fileName, _ = QFileDialog.getOpenFileName(self, \"Load Video\", \"\", \"Videos (*.mp4 *.avi);;All Files (*)\", options=options)\n",
    "        if fileName:\n",
    "            self.process_video(fileName)\n",
    "\n",
    "    def detect_drowsiness(self, image_path):\n",
    "        # Load and preprocess the image\n",
    "        img = cv2.imread(image_path)\n",
    "        img = cv2.resize(img, (64, 64))  # Resize to match model input\n",
    "        img = img / 255.0  # Normalize\n",
    "        img = np.expand_dims(img, axis=0)  # Add batch dimension\n",
    "\n",
    "        # Make prediction\n",
    "        prediction = self.model.predict(img)\n",
    "        result = 'Asleep' if prediction[0][0] > 0.5 else 'Awake'\n",
    "\n",
    "        # Show result in a pop-up message\n",
    "        QMessageBox.information(self, \"Detection Result\", f\"The person is: {result}\")\n",
    "\n",
    "        # Update status bar\n",
    "        self.statusBar.showMessage(f\"Image processed: {result}\")\n",
    "\n",
    "        # Display the image\n",
    "        self.display_image(image_path)\n",
    "\n",
    "    def process_video(self, video_path):\n",
    "        cap = cv2.VideoCapture(video_path)\n",
    "        while cap.isOpened():\n",
    "            ret, frame = cap.read()\n",
    "            if not ret:\n",
    "                break\n",
    "\n",
    "            # Preprocess the frame\n",
    "            img = cv2.resize(frame, (64, 64))  # Resize to match model input\n",
    "            img = img / 255.0  # Normalize\n",
    "            img = np.expand_dims(img, axis=0)  # Add batch dimension\n",
    "\n",
    "            # Make prediction\n",
    "            prediction = self.model.predict(img)\n",
    "            result = 'Asleep' if prediction[0][0] > 0.5 else 'Awake'\n",
    "\n",
    "            # Display the result on the frame\n",
    "            cv2.putText(frame, f\"Status: {result}\", (10, 30), cv2.FONT_HERSHEY_SIMPLEX, 1, (0, 255, 0) if result == 'Awake' else (0, 0, 255), 2)\n",
    "\n",
    "            # Convert frame to QImage and display in QLabel\n",
    "            height, width, channel = frame.shape\n",
    "            bytesPerLine = 3 * width\n",
    "            qImg = QtGui.QImage(frame.data, width, height, bytesPerLine, QtGui.QImage.Format_RGB888).rgbSwapped()\n",
    "            self.imageLabel.setPixmap(QtGui.QPixmap.fromImage(qImg))\n",
    "\n",
    "            # Update status bar\n",
    "            self.statusBar.showMessage(f\"Processing video... Current status: {result}\")\n",
    "\n",
    "            # Break the loop on 'q' key press\n",
    "            if cv2.waitKey(1) & 0xFF == ord('q'):\n",
    "                break\n",
    "\n",
    "        cap.release()\n",
    "        cv2.destroyAllWindows()\n",
    "\n",
    "    def display_image(self, image_path):\n",
    "        # Load the image and convert it to QPixmap\n",
    "        img = QtGui.QImage(image_path)\n",
    "        img = img.scaled(300, 300, QtCore.Qt.KeepAspectRatio)  # Resize for display\n",
    "        self.imageLabel.setPixmap(QtGui.QPixmap.fromImage(img))\n",
    "\n",
    "    def clear_display(self):\n",
    "        self.imageLabel.clear()\n",
    "        self.statusBar.clearMessage()\n",
    "\n",
    "    def save_result(self):\n",
    "        options = QFileDialog.Options()\n",
    "        fileName, _ = QFileDialog.getSaveFileName(self, \"Save Result\", \"\", \"Text Files (*.txt);;All Files (*)\", options=options)\n",
    "        if fileName:\n",
    "            with open(fileName, 'w') as f:\n",
    "                f.write(self.statusBar.currentMessage())\n"
   ]
  },
  {
   "cell_type": "code",
   "execution_count": 20,
   "id": "c19190b7-36cb-4ee2-be16-8aabc6beba43",
   "metadata": {},
   "outputs": [
    {
     "name": "stderr",
     "output_type": "stream",
     "text": [
      "WARNING:absl:Compiled the loaded model, but the compiled metrics have yet to be built. `model.compile_metrics` will be empty until you train or evaluate the model.\n"
     ]
    },
    {
     "ename": "SystemExit",
     "evalue": "0",
     "output_type": "error",
     "traceback": [
      "An exception has occurred, use %tb to see the full traceback.\n",
      "\u001b[1;31mSystemExit\u001b[0m\u001b[1;31m:\u001b[0m 0\n"
     ]
    },
    {
     "name": "stderr",
     "output_type": "stream",
     "text": [
      "C:\\Users\\Mihir\\anaconda3\\Lib\\site-packages\\IPython\\core\\interactiveshell.py:3585: UserWarning: To exit: use 'exit', 'quit', or Ctrl-D.\n",
      "  warn(\"To exit: use 'exit', 'quit', or Ctrl-D.\", stacklevel=1)\n"
     ]
    }
   ],
   "source": [
    "app = QtWidgets.QApplication(sys.argv)\n",
    "window = DrowsinessDetectionApp()\n",
    "window.show()\n",
    "sys.exit(app.exec_())"
   ]
  },
  {
   "cell_type": "code",
   "execution_count": null,
   "id": "c0829e19-fd13-41c4-9763-c9dda9ecd71a",
   "metadata": {},
   "outputs": [],
   "source": []
  }
 ],
 "metadata": {
  "kernelspec": {
   "display_name": "Python 3 (ipykernel)",
   "language": "python",
   "name": "python3"
  },
  "language_info": {
   "codemirror_mode": {
    "name": "ipython",
    "version": 3
   },
   "file_extension": ".py",
   "mimetype": "text/x-python",
   "name": "python",
   "nbconvert_exporter": "python",
   "pygments_lexer": "ipython3",
   "version": "3.12.4"
  }
 },
 "nbformat": 4,
 "nbformat_minor": 5
}
